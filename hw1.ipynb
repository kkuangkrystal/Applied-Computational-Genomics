{
 "cells": [
  {
   "cell_type": "markdown",
   "metadata": {},
   "source": [
    "QUESTION #1\n",
    "\n",
    "Create a new directory in your home directory called homework-01. Navigate into that directory. Show your work by providing the command you used."
   ]
  },
  {
   "cell_type": "code",
   "execution_count": 13,
   "metadata": {},
   "outputs": [
    {
     "name": "stderr",
     "output_type": "stream",
     "text": [
      "mkdir: homework-01: File exists\n"
     ]
    },
    {
     "name": "stdout",
     "output_type": "stream",
     "text": [
      "/Users/krystalkuang/Desktop/XING LAB/Applied Computational Genomics/homework-01\n"
     ]
    }
   ],
   "source": [
    "%%bash\n",
    "\n",
    "mkdir homework-01\n",
    "cd homework-01\n",
    "pwd"
   ]
  },
  {
   "cell_type": "markdown",
   "metadata": {},
   "source": [
    "\n",
    "QUESTION #2\n",
    "\n",
    "Using a UNIX pipe, write a command that counts how many directories are in the /home directory on malibu. Show your work by providing the command you used."
   ]
  },
  {
   "cell_type": "code",
   "execution_count": 17,
   "metadata": {},
   "outputs": [
    {
     "name": "stdout",
     "output_type": "stream",
     "text": [
      "       0\n"
     ]
    }
   ],
   "source": [
    "!ls -l /home | grep '^d' | wc -l"
   ]
  },
  {
   "cell_type": "markdown",
   "metadata": {},
   "source": [
    "QUESTION #3\n",
    "\n",
    "Unix computers have a convenient file located at /usr/share/dict/words that stores all (or at least the majority) of words in the English language. What is the 55,000th word in that file? Show your work by providing the command you used."
   ]
  },
  {
   "cell_type": "code",
   "execution_count": 24,
   "metadata": {},
   "outputs": [
    {
     "name": "stdout",
     "output_type": "stream",
     "text": [
      "disembellish\n"
     ]
    }
   ],
   "source": [
    "!head -55000 /usr/share/dict/words | tail -1"
   ]
  },
  {
   "cell_type": "markdown",
   "metadata": {},
   "source": [
    "QUESTION #4\n",
    "\n",
    "Using a Unix command, how many visible and imvisible characters are in the 55,000th word? Show your work by providing the command you used."
   ]
  },
  {
   "cell_type": "code",
   "execution_count": null,
   "metadata": {},
   "outputs": [
    {
     "name": "stdout",
     "output_type": "stream",
     "text": [
      "      13\n"
     ]
    }
   ],
   "source": [
    "!head -55000 /usr/share/dict/words | tail -1 | cut -d$'\\n' -f1 |wc -c  # cut -d$'\\n' -f1 to get rid of the /n character "
   ]
  },
  {
   "cell_type": "markdown",
   "metadata": {},
   "source": [
    "Collecting the data we will use for the rest of this homework\n",
    "\n",
    "Let's start by downloading this GTF file from Ensemble using a new UNIX command called curl. curl transfers data from a remote file (i.e., on an FTP or HTTP site) directly to your terminal. In other words, it is the command line way of going to a website and downloading something. This command is super useful because most real world analyses require getting data or annotations from other resources such as the UCSC genome browser.\n",
    "\n",
    "So, you must start by downloading this file. Note that we use the \">\" to redirect the data retrieved by curl into a new file called human.genes.gtf.gz"
   ]
  },
  {
   "cell_type": "code",
   "execution_count": 33,
   "metadata": {},
   "outputs": [
    {
     "name": "stdout",
     "output_type": "stream",
     "text": [
      "  % Total    % Received % Xferd  Average Speed   Time    Time     Time  Current\n",
      "                                 Dload  Upload   Total   Spent    Left  Speed\n",
      "100  840M  100  840M    0     0  4921k      0  0:02:54  0:02:54 --:--:-- 4894k4:07 3422k  0     0  4696k      0  0:03:03  0:00:32  0:02:31 5751k0     0  4675k      0  0:03:04  0:00:40  0:02:24 4158kM    0     0  4830k      0  0:02:58  0:01:05  0:01:53 5175k 4827k      0  0:02:58  0:01:06  0:01:52 5191k 0     0  4832k      0  0:02:58  0:01:08  0:01:50 5143k  0  4992k      0  0:02:52  0:01:34  0:01:18 5279k0:02:51  0:01:38  0:01:13 5497k  0:02:51  0:01:41  0:01:10 5476k  0:01:43  0:01:07 5359k 0  0:02:51  0:01:46  0:01:05 5261k      0  0:02:51  0:01:52  0:00:59 4746k\n"
     ]
    }
   ],
   "source": [
    "!curl http://ftp.ensembl.org/pub/release-104/fasta/homo_sapiens/dna/Homo_sapiens.GRCh38.dna.primary_assembly.fa.gz > human.genes.gtf.gz"
   ]
  },
  {
   "cell_type": "markdown",
   "metadata": {},
   "source": [
    "Now, notice that the filename ends in \".gz\". This means that it is compressed with a program called gzip. If you have ever used the compression utilities on your Mac or Windows machine, you have likely seen files that end with \".zip\". This is the exact same concept, but \".gz\" file were compressed with a slightly different tool. So, before we get started, we have to first \"decompress\" this file into a plain old text file (in GTF format as we discuss in class) that we can easily work with using the UNIX commands we have learned thus far. We do this as follows using yet another new UNIX command called gzip. The -d option tells gzip to decompress the file."
   ]
  },
  {
   "cell_type": "code",
   "execution_count": 34,
   "metadata": {},
   "outputs": [],
   "source": [
    "!gzip -d human.genes.gtf.gz"
   ]
  },
  {
   "cell_type": "markdown",
   "metadata": {},
   "source": [
    "QUESTION #5\n",
    "\n",
    "How many GTF data lines are in this file? Note that the first few lines in the file beginning with \"#\" are so-called \"header\" lines describing thing like the creation date, the genome version (more on that later in the course), etc. Header lines should not be counted as data lines.\n",
    "\n",
    "Show your work by providing the command you used."
   ]
  },
  {
   "cell_type": "code",
   "execution_count": 3,
   "metadata": {},
   "outputs": [
    {
     "name": "stdout",
     "output_type": "stream",
     "text": [
      " 51662615\n"
     ]
    }
   ],
   "source": [
    "!grep -v '>' human.genes.gtf | wc -l    # headers start with '>' rather than '#'"
   ]
  },
  {
   "cell_type": "markdown",
   "metadata": {},
   "source": [
    "QUESTION #6\n",
    "\n",
    "How many GTF data lines are in this file for protein coding genes? Note that entries (lines in the file for protein coding genes will contain the following text: gene_biotype \"protein_coding\"\n",
    "\n",
    "Use the string above with a command you have learned to find such lines.\n",
    "\n",
    "Hint: the UNIX pipe may come in handy here...\n",
    "\n",
    "Show your work by providing the single command you used."
   ]
  },
  {
   "cell_type": "code",
   "execution_count": 4,
   "metadata": {},
   "outputs": [
    {
     "name": "stdout",
     "output_type": "stream",
     "text": [
      "       0\n"
     ]
    }
   ],
   "source": [
    "!grep 'protein_coding' human.genes.gtf | wc -l      # I might have downloaded the wrong file...this looks like a FASTA file"
   ]
  },
  {
   "cell_type": "markdown",
   "metadata": {},
   "source": [
    "QUESTION #7\n",
    "How many GTF data lines are in this file for exons from protein coding genes?\n",
    "\n",
    "Show your work by providing the single command you used."
   ]
  },
  {
   "cell_type": "code",
   "execution_count": 6,
   "metadata": {},
   "outputs": [
    {
     "name": "stdout",
     "output_type": "stream",
     "text": [
      "       0\n"
     ]
    }
   ],
   "source": [
    "# Sorry Dr. Xing...I swear I know how to do this\n",
    "!grep -v '>' human.genes.gtf | grep 'exon' | grep 'gene_type \"protein_coding\"' | wc -l"
   ]
  },
  {
   "cell_type": "markdown",
   "metadata": {},
   "source": [
    "QUESTION #8\n",
    "\n",
    "How many CDS exons (\"CDS\" in column 3) from protein coding genes exist on per each chromosome (column 1 in the GTF file)? That is, the count per chromsome.\n",
    "\n",
    "Show your work by providing the command or commands you used."
   ]
  },
  {
   "cell_type": "code",
   "execution_count": null,
   "metadata": {},
   "outputs": [],
   "source": [
    "!grep -v '>' human.genes.gtf | grep 'ATG.*(TAA|TAG|TGA)' | cut -f1 | sort | uniq -c         # not too sure about the CDS"
   ]
  },
  {
   "cell_type": "markdown",
   "metadata": {},
   "source": [
    "QUESTION #9\n",
    "\n",
    "Explain how you might design an analysis of this file that would reveal how many distinct protein coding genes there are in the human genome. Hint: you may not have learned all of the command you might need - the point is to think about what what you could do with the commands you know of and what limitations would have to be addressed."
   ]
  },
  {
   "cell_type": "markdown",
   "metadata": {},
   "source": [
    "To analyze distinct protein-coding genes from a GTF file, first filter the lines that represent \"protein_coding\" in the Header (assuming that is supposed to be listed in all cases). Then, extract gene IDs and remove duplicates to isolate unique protein-coding genes. This is all assuming the file is structured in a way that has all this information listed in the Header. "
   ]
  }
 ],
 "metadata": {
  "kernelspec": {
   "display_name": "Python 3",
   "language": "python",
   "name": "python3"
  },
  "language_info": {
   "codemirror_mode": {
    "name": "ipython",
    "version": 3
   },
   "file_extension": ".py",
   "mimetype": "text/x-python",
   "name": "python",
   "nbconvert_exporter": "python",
   "pygments_lexer": "ipython3",
   "version": "3.13.2"
  }
 },
 "nbformat": 4,
 "nbformat_minor": 2
}
